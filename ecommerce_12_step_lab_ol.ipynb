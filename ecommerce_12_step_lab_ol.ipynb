{
 "cells": [
  {
   "cell_type": "markdown",
   "id": "e0556e8b",
   "metadata": {},
   "source": [
    "# Data Collection and Pre‑Processing Lab : E‑commerce (12‑Step Roadmap)\n",
    "\n",
    "**Author:** Oluwafemi Lawal\n",
    "**Date:** 2025-09-30\n",
    "\n",
    "This notebook executes the 12‑step Data Engineering roadmap on a realistic e‑commerce–style dataset.  \n",
    "It loads raw data, cleans and enriches it, and finishes with a concise analytical insight.  \n",
    "A **Data Dictionary** merged from a secondary metadata source follows at the end.\n"
   ]
  },
  {
   "cell_type": "markdown",
   "id": "7bc8a295",
   "metadata": {},
   "source": [
    "## Setup"
   ]
  },
  {
   "cell_type": "code",
   "execution_count": null,
   "id": "a294cde6",
   "metadata": {},
   "outputs": [
    {
     "name": "stdout",
     "output_type": "stream",
     "text": [
      "Using primary CSV: data/100000 Sales Records.csv\n"
     ]
    }
   ],
   "source": [
    "\n",
    "import os\n",
    "import math\n",
    "from dataclasses import dataclass\n",
    "from typing import Dict, List, Any, Optional\n",
    "\n",
    "import pandas as pd\n",
    "import numpy as np\n",
    "\n",
    "pd.set_option(\"display.max_columns\", 100)\n",
    "pd.set_option(\"display.width\", 120)\n",
    "\n",
    "PRIMARY_CSV_CANDIDATES = [\n",
    "    \"data/100000 Sales Records.csv\",\n",
    "    \"../data/100000 Sales Records.csv\",\n",
    "]\n",
    "primary_csv = next((p for p in PRIMARY_CSV_CANDIDATES if os.path.exists(p)), None)\n",
    "if primary_csv is None:\n",
    "    raise FileNotFoundError(\"Could not find '100000 Sales Records.csv' in data/.\")\n",
    "\n",
    "print(\"Using primary CSV:\", primary_csv)\n"
   ]
  },
  {
   "cell_type": "markdown",
   "id": "af967359",
   "metadata": {},
   "source": [
    "## Step 1 : Hello, Data!\n",
    "Load raw CSV and display the first 3 rows (I keep only the first 500 rows for the assignment).\n"
   ]
  },
  {
   "cell_type": "code",
   "execution_count": 2,
   "id": "516b8f28",
   "metadata": {},
   "outputs": [
    {
     "data": {
      "application/vnd.microsoft.datawrangler.viewer.v0+json": {
       "columns": [
        {
         "name": "index",
         "rawType": "int64",
         "type": "integer"
        },
        {
         "name": "Region",
         "rawType": "object",
         "type": "string"
        },
        {
         "name": "Country",
         "rawType": "object",
         "type": "string"
        },
        {
         "name": "Item Type",
         "rawType": "object",
         "type": "string"
        },
        {
         "name": "Sales Channel",
         "rawType": "object",
         "type": "string"
        },
        {
         "name": "Order Priority",
         "rawType": "object",
         "type": "string"
        },
        {
         "name": "Order Date",
         "rawType": "object",
         "type": "string"
        },
        {
         "name": "Order ID",
         "rawType": "int64",
         "type": "integer"
        },
        {
         "name": "Ship Date",
         "rawType": "object",
         "type": "string"
        },
        {
         "name": "Units Sold",
         "rawType": "int64",
         "type": "integer"
        },
        {
         "name": "Unit Price",
         "rawType": "float64",
         "type": "float"
        },
        {
         "name": "Unit Cost",
         "rawType": "float64",
         "type": "float"
        },
        {
         "name": "Total Revenue",
         "rawType": "float64",
         "type": "float"
        },
        {
         "name": "Total Cost",
         "rawType": "float64",
         "type": "float"
        },
        {
         "name": "Total Profit",
         "rawType": "float64",
         "type": "float"
        }
       ],
       "ref": "db320106-5473-4e85-b78a-57c42b7932ba",
       "rows": [
        [
         "0",
         "Middle East and North Africa",
         "Azerbaijan",
         "Snacks",
         "Online",
         "C",
         "10/8/2014",
         "535113847",
         "10/23/2014",
         "934",
         "152.58",
         "97.44",
         "142509.72",
         "91008.96",
         "51500.76"
        ],
        [
         "1",
         "Central America and the Caribbean",
         "Panama",
         "Cosmetics",
         "Offline",
         "L",
         "2/22/2015",
         "874708545",
         "2/27/2015",
         "4551",
         "437.2",
         "263.33",
         "1989697.2",
         "1198414.83",
         "791282.37"
        ],
        [
         "2",
         "Sub-Saharan Africa",
         "Sao Tome and Principe",
         "Fruits",
         "Offline",
         "M",
         "12/9/2015",
         "854349935",
         "1/18/2016",
         "9986",
         "9.33",
         "6.92",
         "93169.38",
         "69103.12",
         "24066.26"
        ]
       ],
       "shape": {
        "columns": 14,
        "rows": 3
       }
      },
      "text/html": [
       "<div>\n",
       "<style scoped>\n",
       "    .dataframe tbody tr th:only-of-type {\n",
       "        vertical-align: middle;\n",
       "    }\n",
       "\n",
       "    .dataframe tbody tr th {\n",
       "        vertical-align: top;\n",
       "    }\n",
       "\n",
       "    .dataframe thead th {\n",
       "        text-align: right;\n",
       "    }\n",
       "</style>\n",
       "<table border=\"1\" class=\"dataframe\">\n",
       "  <thead>\n",
       "    <tr style=\"text-align: right;\">\n",
       "      <th></th>\n",
       "      <th>Region</th>\n",
       "      <th>Country</th>\n",
       "      <th>Item Type</th>\n",
       "      <th>Sales Channel</th>\n",
       "      <th>Order Priority</th>\n",
       "      <th>Order Date</th>\n",
       "      <th>Order ID</th>\n",
       "      <th>Ship Date</th>\n",
       "      <th>Units Sold</th>\n",
       "      <th>Unit Price</th>\n",
       "      <th>Unit Cost</th>\n",
       "      <th>Total Revenue</th>\n",
       "      <th>Total Cost</th>\n",
       "      <th>Total Profit</th>\n",
       "    </tr>\n",
       "  </thead>\n",
       "  <tbody>\n",
       "    <tr>\n",
       "      <th>0</th>\n",
       "      <td>Middle East and North Africa</td>\n",
       "      <td>Azerbaijan</td>\n",
       "      <td>Snacks</td>\n",
       "      <td>Online</td>\n",
       "      <td>C</td>\n",
       "      <td>10/8/2014</td>\n",
       "      <td>535113847</td>\n",
       "      <td>10/23/2014</td>\n",
       "      <td>934</td>\n",
       "      <td>152.58</td>\n",
       "      <td>97.44</td>\n",
       "      <td>142509.72</td>\n",
       "      <td>91008.96</td>\n",
       "      <td>51500.76</td>\n",
       "    </tr>\n",
       "    <tr>\n",
       "      <th>1</th>\n",
       "      <td>Central America and the Caribbean</td>\n",
       "      <td>Panama</td>\n",
       "      <td>Cosmetics</td>\n",
       "      <td>Offline</td>\n",
       "      <td>L</td>\n",
       "      <td>2/22/2015</td>\n",
       "      <td>874708545</td>\n",
       "      <td>2/27/2015</td>\n",
       "      <td>4551</td>\n",
       "      <td>437.20</td>\n",
       "      <td>263.33</td>\n",
       "      <td>1989697.20</td>\n",
       "      <td>1198414.83</td>\n",
       "      <td>791282.37</td>\n",
       "    </tr>\n",
       "    <tr>\n",
       "      <th>2</th>\n",
       "      <td>Sub-Saharan Africa</td>\n",
       "      <td>Sao Tome and Principe</td>\n",
       "      <td>Fruits</td>\n",
       "      <td>Offline</td>\n",
       "      <td>M</td>\n",
       "      <td>12/9/2015</td>\n",
       "      <td>854349935</td>\n",
       "      <td>1/18/2016</td>\n",
       "      <td>9986</td>\n",
       "      <td>9.33</td>\n",
       "      <td>6.92</td>\n",
       "      <td>93169.38</td>\n",
       "      <td>69103.12</td>\n",
       "      <td>24066.26</td>\n",
       "    </tr>\n",
       "  </tbody>\n",
       "</table>\n",
       "</div>"
      ],
      "text/plain": [
       "                              Region                Country  Item Type Sales Channel Order Priority Order Date  \\\n",
       "0       Middle East and North Africa             Azerbaijan     Snacks        Online              C  10/8/2014   \n",
       "1  Central America and the Caribbean                 Panama  Cosmetics       Offline              L  2/22/2015   \n",
       "2                 Sub-Saharan Africa  Sao Tome and Principe     Fruits       Offline              M  12/9/2015   \n",
       "\n",
       "    Order ID   Ship Date  Units Sold  Unit Price  Unit Cost  Total Revenue  Total Cost  Total Profit  \n",
       "0  535113847  10/23/2014         934      152.58      97.44      142509.72    91008.96      51500.76  \n",
       "1  874708545   2/27/2015        4551      437.20     263.33     1989697.20  1198414.83     791282.37  \n",
       "2  854349935   1/18/2016        9986        9.33       6.92       93169.38    69103.12      24066.26  "
      ]
     },
     "execution_count": 2,
     "metadata": {},
     "output_type": "execute_result"
    }
   ],
   "source": [
    "\n",
    "raw_df = pd.read_csv(primary_csv)\n",
    "raw_df = raw_df.head(500).copy()\n",
    "raw_df.head(3)\n"
   ]
  },
  {
   "cell_type": "markdown",
   "id": "7c8444e9",
   "metadata": {},
   "source": [
    "## Step 2 : Pick the Right Container\n",
    "**Justification (dict vs namedtuple vs set):**  \n",
    "- **dict** is ideal for keyed lookups (e.g., `city -> revenue`) and flexible schemas while I iterate.  \n",
    "- **namedtuple/dataclass** suits *row-like* records with fixed fields for clarity and type hints.  \n",
    "- **set** is perfect for uniqueness checks (e.g., distinct cities).  \n",
    "For this workflow, I’ll use **dicts** for aggregations and a **dataclass** to model a cleaned order record.\n"
   ]
  },
  {
   "cell_type": "markdown",
   "id": "2e6afa7d",
   "metadata": {},
   "source": [
    "## Step 3 : Implement Functions and Data Structure\n",
    "I’ll synthesize required fields not present in the raw file:\n",
    "- `date` ← `Order Date`\n",
    "- `customer_id` ← derived from `Order ID`\n",
    "- `product` ← `Item Type`\n",
    "- `price` ← `Unit Price`\n",
    "- `quantity` ← `Units Sold`\n",
    "- `coupon_code` ← heuristic (based on `Order Priority` & `Item Type`)\n",
    "- `shipping_city` ← heuristic mapping from `Country` (major/capital city)\n",
    "\n",
    "I provide a small `OrderRecord` dataclass and a `Cleaner` class with `.clean()` and `.total()`.\n"
   ]
  },
  {
   "cell_type": "code",
   "execution_count": null,
   "id": "3067d782",
   "metadata": {},
   "outputs": [],
   "source": [
    "\n",
    "from dataclasses import dataclass\n",
    "from datetime import datetime\n",
    "\n",
    "# Simple secondary metadata (will be persisted to CSV later for Data Dictionary merge)\n",
    "# 1) Coupon catalog with human-readable descriptions & percent discounts\n",
    "COUPON_META = pd.DataFrame([\n",
    "    {\"coupon_code\":\"NOCOUP\", \"description\":\"No promotion applied\", \"discount_pct\":0},\n",
    "    {\"coupon_code\":\"SAVE10\", \"description\":\"10% off standard items\", \"discount_pct\":10},\n",
    "    {\"coupon_code\":\"SAVE15\", \"description\":\"15% off select items\", \"discount_pct\":15},\n",
    "    {\"coupon_code\":\"VIP20\",  \"description\":\"20% VIP customer promo\", \"discount_pct\":20},\n",
    "], dtype=\"object\")\n",
    "\n",
    "# 2) Country -> representative shipping city (approximate; illustrative for the lab)\n",
    "COUNTRY_CITY_META = pd.DataFrame([\n",
    "    {\"Country\":\"United States of America\", \"shipping_city\":\"New York\"},\n",
    "    {\"Country\":\"Canada\", \"shipping_city\":\"Toronto\"},\n",
    "    {\"Country\":\"Mexico\", \"shipping_city\":\"Mexico City\"},\n",
    "    {\"Country\":\"Brazil\", \"shipping_city\":\"São Paulo\"},\n",
    "    {\"Country\":\"Argentina\", \"shipping_city\":\"Buenos Aires\"},\n",
    "    {\"Country\":\"United Kingdom\", \"shipping_city\":\"London\"},\n",
    "    {\"Country\":\"France\", \"shipping_city\":\"Paris\"},\n",
    "    {\"Country\":\"Germany\", \"shipping_city\":\"Berlin\"},\n",
    "    {\"Country\":\"India\", \"shipping_city\":\"Mumbai\"},\n",
    "    {\"Country\":\"China\", \"shipping_city\":\"Shanghai\"},\n",
    "], dtype=\"object\")\n",
    "\n",
    "# Heuristic: choose coupon from Order Priority & Item Type\n",
    "def choose_coupon(order_priority: str, item_type: str) -> str:\n",
    "    p = (order_priority or \"\").strip().upper()\n",
    "    it = (item_type or \"\").strip().loIr()\n",
    "    if p in {\"H\",\"C\"} and it in {\"cosmetics\",\"household\",\"snacks\"}:\n",
    "        return \"SAVE15\"\n",
    "    if p in {\"M\"} or it in {\"clothes\",\"baby food\"}:\n",
    "        return \"SAVE10\"\n",
    "    if it in {\"personal care\"}:\n",
    "        return \"VIP20\"\n",
    "    return \"NOCOUP\"\n",
    "\n",
    "@dataclass\n",
    "class OrderRecord:\n",
    "    date: datetime\n",
    "    customer_id: str\n",
    "    product: str\n",
    "    price: float\n",
    "    quantity: int\n",
    "    coupon_code: str\n",
    "    shipping_city: str\n",
    "\n",
    "class Cleaner:\n",
    "    def __init__(self, df: pd.DataFrame):\n",
    "        self.df = df.copy()\n",
    "\n",
    "    def _coerce_types(self, df: pd.DataFrame) -> pd.DataFrame:\n",
    "        # Parse dates\n",
    "        for col in [\"Order Date\", \"Ship Date\"]:\n",
    "            if col in df.columns:\n",
    "                df[col] = pd.to_datetime(df[col], errors=\"coerce\")\n",
    "        # Numeric coercions\n",
    "        for col in [\"Units Sold\",\"Unit Price\",\"Unit Cost\",\"Total Revenue\",\"Total Cost\",\"Total Profit\"]:\n",
    "            if col in df.columns:\n",
    "                df[col] = pd.to_numeric(df[col], errors=\"coerce\")\n",
    "        return df\n",
    "\n",
    "    def _add_required_fields(self, df: pd.DataFrame) -> pd.DataFrame:\n",
    "        df[\"date\"] = df[\"Order Date\"]\n",
    "        # derive deterministic pseudo-customer ids from Order ID\n",
    "        df[\"customer_id\"] = df[\"Order ID\"].astype(str)\n",
    "        df[\"product\"] = df[\"Item Type\"]\n",
    "        df[\"price\"] = df[\"Unit Price\"]\n",
    "        df[\"quantity\"] = df[\"Units Sold\"]\n",
    "        # coupon heuristic\n",
    "        df[\"coupon_code\"] = [\n",
    "            choose_coupon(op, it) for op, it in zip(df[\"Order Priority\"], df[\"Item Type\"])\n",
    "        ]\n",
    "        # map Country -> shipping_city; fallback: use Country name\n",
    "        city_map = dict(zip(COUNTRY_CITY_META[\"Country\"], COUNTRY_CITY_META[\"shipping_city\"]))\n",
    "        df[\"shipping_city\"] = df[\"Country\"].map(city_map).fillna(df[\"Country\"])\n",
    "        return df\n",
    "\n",
    "    def clean(self) -> pd.DataFrame:\n",
    "        \"\"\"Apply cleaning rules and return cleaned DataFrame with required columns.\"\"\"\n",
    "        df = self.df.copy()\n",
    "        before = len(df)\n",
    "        df = self._coerce_types(df)\n",
    "\n",
    "        # Drop rows with missing key fields\n",
    "        df = df.dropna(subset=[\"Order Date\",\"Order ID\",\"Item Type\",\"Units Sold\",\"Unit Price\",\"Country\",\"Order Priority\"])\n",
    "\n",
    "        # Remove negative or zero quantities/prices (if any)\n",
    "        df = df[(df[\"Units Sold\"] > 0) & (df[\"Unit Price\"] > 0)]\n",
    "\n",
    "        # Add required fields\n",
    "        df = self._add_required_fields(df)\n",
    "\n",
    "        # Standardize text cases\n",
    "        df[\"product\"] = df[\"product\"].astype(str).str.title()\n",
    "        df[\"coupon_code\"] = df[\"coupon_code\"].astype(str).str.upper()\n",
    "        df[\"shipping_city\"] = df[\"shipping_city\"].astype(str).str.title()\n",
    "\n",
    "        after = len(df)\n",
    "        print(f\"Cleaned rows: before={before}, after={after}, removed={before-after}\")\n",
    "        return df\n",
    "\n",
    "    def total(self, price: float, quantity: int, discount_pct: float) -> float:\n",
    "        return float(price) * int(quantity) * (1 - float(discount_pct)/100.0)\n"
   ]
  },
  {
   "cell_type": "markdown",
   "id": "2b920cec",
   "metadata": {},
   "source": [
    "## Step 4 : Bulk Loaded\n",
    "Map from DataFrame rows to dictionaries to illustrate container choices.\n"
   ]
  },
  {
   "cell_type": "code",
   "execution_count": null,
   "id": "9140f64f",
   "metadata": {},
   "outputs": [
    {
     "name": "stdout",
     "output_type": "stream",
     "text": [
      "Cleaned rows: before=500, after=500, removed=0\n"
     ]
    },
    {
     "data": {
      "text/plain": [
       "(500,\n",
       " {'date': Timestamp('2014-10-08 00:00:00'),\n",
       "  'customer_id': '535113847',\n",
       "  'product': 'Snacks',\n",
       "  'price': 152.58,\n",
       "  'quantity': 934,\n",
       "  'coupon_code': 'SAVE15',\n",
       "  'discount_pct': 15.0,\n",
       "  'shipping_city': 'Azerbaijan'})"
      ]
     },
     "execution_count": 4,
     "metadata": {},
     "output_type": "execute_result"
    }
   ],
   "source": [
    "\n",
    "cleaner = Cleaner(raw_df)\n",
    "clean_df = cleaner.clean()\n",
    "\n",
    "# Join discount metadata so I can compute totals\n",
    "clean_df = clean_df.merge(COUPON_META[[\"coupon_code\",\"discount_pct\"]], on=\"coupon_code\", how=\"left\")\n",
    "\n",
    "# Map to a list of dictionaries (bulk loaded)\n",
    "records: List[Dict[str, Any]] = []\n",
    "for _, r in clean_df.iterrows():\n",
    "    rec = {\n",
    "        \"date\": r[\"date\"],\n",
    "        \"customer_id\": r[\"customer_id\"],\n",
    "        \"product\": r[\"product\"],\n",
    "        \"price\": float(r[\"price\"]),\n",
    "        \"quantity\": int(r[\"quantity\"]),\n",
    "        \"coupon_code\": r[\"coupon_code\"],\n",
    "        \"discount_pct\": float(r.get(\"discount_pct\", 0) or 0.0),\n",
    "        \"shipping_city\": r[\"shipping_city\"],\n",
    "    }\n",
    "    records.append(rec)\n",
    "\n",
    "len(records), records[0]\n"
   ]
  },
  {
   "cell_type": "markdown",
   "id": "5665fc9e",
   "metadata": {},
   "source": [
    "## Step 5 : Quick Profiling\n",
    "Compute min/mean/max price and the number of unique shipping cities (using a set).\n"
   ]
  },
  {
   "cell_type": "code",
   "execution_count": 5,
   "id": "9da79ece",
   "metadata": {},
   "outputs": [
    {
     "name": "stdout",
     "output_type": "stream",
     "text": [
      "{'price_min': np.float64(9.33), 'price_mean': np.float64(278.65074), 'price_max': np.float64(668.27), 'unique_cities': 173}\n"
     ]
    }
   ],
   "source": [
    "\n",
    "price_min = clean_df[\"price\"].min()\n",
    "price_mean = clean_df[\"price\"].mean()\n",
    "price_max = clean_df[\"price\"].max()\n",
    "unique_cities = len(set(clean_df[\"shipping_city\"].dropna().astype(str)))\n",
    "\n",
    "print({\"price_min\": price_min, \"price_mean\": price_mean, \"price_max\": price_max, \"unique_cities\": unique_cities})\n"
   ]
  },
  {
   "cell_type": "markdown",
   "id": "dea11deb",
   "metadata": {},
   "source": [
    "## Step 6 : Spot the Grime\n",
    "At least three examples of dirty data identified:\n",
    "1. Non-parsable dates (`Order Date` or `Ship Date`) → coerced to `NaT` and dropped.\n",
    "2. Missing/blank `Item Type`, `Units Sold`, or `Unit Price` → dropped.\n",
    "3. Negative/zero `Units Sold` or `Unit Price` → dropped.\n"
   ]
  },
  {
   "cell_type": "markdown",
   "id": "0ad7c284",
   "metadata": {},
   "source": [
    "## Step 7 : Cleaning Rules\n",
    "Fixes are executed in `Cleaner.clean()`. \"Before/after\" counts are printed during cleaning.\n"
   ]
  },
  {
   "cell_type": "markdown",
   "id": "44ab8791",
   "metadata": {},
   "source": [
    "## Step 8 : Transformations\n",
    "Parse `coupon_code` → numeric discount and compute per-row `net_total` using `.total()`.\n"
   ]
  },
  {
   "cell_type": "code",
   "execution_count": 6,
   "id": "f4b42cd3",
   "metadata": {},
   "outputs": [
    {
     "name": "stderr",
     "output_type": "stream",
     "text": [
      "C:\\Users\\femil\\AppData\\Local\\Temp\\ipykernel_30588\\201086444.py:2: FutureWarning: Downcasting object dtype arrays on .fillna, .ffill, .bfill is deprecated and will change in a future version. Call result.infer_objects(copy=False) instead. To opt-in to the future behavior, set `pd.set_option('future.no_silent_downcasting', True)`\n",
      "  cleaner.total(p, q, d) for p, q, d in zip(clean_df[\"price\"], clean_df[\"quantity\"], clean_df[\"discount_pct\"].fillna(0))\n"
     ]
    },
    {
     "data": {
      "application/vnd.microsoft.datawrangler.viewer.v0+json": {
       "columns": [
        {
         "name": "index",
         "rawType": "int64",
         "type": "integer"
        },
        {
         "name": "customer_id",
         "rawType": "object",
         "type": "string"
        },
        {
         "name": "product",
         "rawType": "object",
         "type": "string"
        },
        {
         "name": "price",
         "rawType": "float64",
         "type": "float"
        },
        {
         "name": "quantity",
         "rawType": "int64",
         "type": "integer"
        },
        {
         "name": "coupon_code",
         "rawType": "object",
         "type": "string"
        },
        {
         "name": "discount_pct",
         "rawType": "object",
         "type": "unknown"
        },
        {
         "name": "net_total",
         "rawType": "float64",
         "type": "float"
        }
       ],
       "ref": "454bd6b4-6704-4db8-b0ec-607d11a64994",
       "rows": [
        [
         "0",
         "535113847",
         "Snacks",
         "152.58",
         "934",
         "SAVE15",
         "15",
         "121133.262"
        ],
        [
         "1",
         "874708545",
         "Cosmetics",
         "437.2",
         "4551",
         "NOCOUP",
         "0",
         "1989697.2"
        ],
        [
         "2",
         "854349935",
         "Fruits",
         "9.33",
         "9986",
         "SAVE10",
         "10",
         "83852.44200000001"
        ],
        [
         "3",
         "892836844",
         "Personal Care",
         "81.73",
         "9118",
         "SAVE10",
         "10",
         "670692.726"
        ],
        [
         "4",
         "129280602",
         "Household",
         "668.27",
         "5858",
         "SAVE15",
         "15",
         "3327516.8109999998"
        ]
       ],
       "shape": {
        "columns": 7,
        "rows": 5
       }
      },
      "text/html": [
       "<div>\n",
       "<style scoped>\n",
       "    .dataframe tbody tr th:only-of-type {\n",
       "        vertical-align: middle;\n",
       "    }\n",
       "\n",
       "    .dataframe tbody tr th {\n",
       "        vertical-align: top;\n",
       "    }\n",
       "\n",
       "    .dataframe thead th {\n",
       "        text-align: right;\n",
       "    }\n",
       "</style>\n",
       "<table border=\"1\" class=\"dataframe\">\n",
       "  <thead>\n",
       "    <tr style=\"text-align: right;\">\n",
       "      <th></th>\n",
       "      <th>customer_id</th>\n",
       "      <th>product</th>\n",
       "      <th>price</th>\n",
       "      <th>quantity</th>\n",
       "      <th>coupon_code</th>\n",
       "      <th>discount_pct</th>\n",
       "      <th>net_total</th>\n",
       "    </tr>\n",
       "  </thead>\n",
       "  <tbody>\n",
       "    <tr>\n",
       "      <th>0</th>\n",
       "      <td>535113847</td>\n",
       "      <td>Snacks</td>\n",
       "      <td>152.58</td>\n",
       "      <td>934</td>\n",
       "      <td>SAVE15</td>\n",
       "      <td>15</td>\n",
       "      <td>121133.262</td>\n",
       "    </tr>\n",
       "    <tr>\n",
       "      <th>1</th>\n",
       "      <td>874708545</td>\n",
       "      <td>Cosmetics</td>\n",
       "      <td>437.20</td>\n",
       "      <td>4551</td>\n",
       "      <td>NOCOUP</td>\n",
       "      <td>0</td>\n",
       "      <td>1989697.200</td>\n",
       "    </tr>\n",
       "    <tr>\n",
       "      <th>2</th>\n",
       "      <td>854349935</td>\n",
       "      <td>Fruits</td>\n",
       "      <td>9.33</td>\n",
       "      <td>9986</td>\n",
       "      <td>SAVE10</td>\n",
       "      <td>10</td>\n",
       "      <td>83852.442</td>\n",
       "    </tr>\n",
       "    <tr>\n",
       "      <th>3</th>\n",
       "      <td>892836844</td>\n",
       "      <td>Personal Care</td>\n",
       "      <td>81.73</td>\n",
       "      <td>9118</td>\n",
       "      <td>SAVE10</td>\n",
       "      <td>10</td>\n",
       "      <td>670692.726</td>\n",
       "    </tr>\n",
       "    <tr>\n",
       "      <th>4</th>\n",
       "      <td>129280602</td>\n",
       "      <td>Household</td>\n",
       "      <td>668.27</td>\n",
       "      <td>5858</td>\n",
       "      <td>SAVE15</td>\n",
       "      <td>15</td>\n",
       "      <td>3327516.811</td>\n",
       "    </tr>\n",
       "  </tbody>\n",
       "</table>\n",
       "</div>"
      ],
      "text/plain": [
       "  customer_id        product   price  quantity coupon_code discount_pct    net_total\n",
       "0   535113847         Snacks  152.58       934      SAVE15           15   121133.262\n",
       "1   874708545      Cosmetics  437.20      4551      NOCOUP            0  1989697.200\n",
       "2   854349935         Fruits    9.33      9986      SAVE10           10    83852.442\n",
       "3   892836844  Personal Care   81.73      9118      SAVE10           10   670692.726\n",
       "4   129280602      Household  668.27      5858      SAVE15           15  3327516.811"
      ]
     },
     "execution_count": 6,
     "metadata": {},
     "output_type": "execute_result"
    }
   ],
   "source": [
    "\n",
    "clean_df[\"net_total\"] = [\n",
    "    cleaner.total(p, q, d) for p, q, d in zip(clean_df[\"price\"], clean_df[\"quantity\"], clean_df[\"discount_pct\"].fillna(0))\n",
    "]\n",
    "clean_df[[\"customer_id\",\"product\",\"price\",\"quantity\",\"coupon_code\",\"discount_pct\",\"net_total\"]].head(5)\n"
   ]
  },
  {
   "cell_type": "markdown",
   "id": "c70acb25",
   "metadata": {},
   "source": [
    "## Step 9 : Feature Engineering\n",
    "Example: `days_since_purchase` from the `date` column.\n"
   ]
  },
  {
   "cell_type": "code",
   "execution_count": 7,
   "id": "4b16e003",
   "metadata": {},
   "outputs": [
    {
     "data": {
      "application/vnd.microsoft.datawrangler.viewer.v0+json": {
       "columns": [
        {
         "name": "index",
         "rawType": "int64",
         "type": "integer"
        },
        {
         "name": "date",
         "rawType": "datetime64[ns]",
         "type": "datetime"
        },
        {
         "name": "days_since_purchase",
         "rawType": "int64",
         "type": "integer"
        }
       ],
       "ref": "c1dcf94d-d291-430e-a530-ee128eb6091d",
       "rows": [
        [
         "0",
         "2014-10-08 00:00:00",
         "4009"
        ],
        [
         "1",
         "2015-02-22 00:00:00",
         "3872"
        ],
        [
         "2",
         "2015-12-09 00:00:00",
         "3582"
        ],
        [
         "3",
         "2014-09-17 00:00:00",
         "4030"
        ],
        [
         "4",
         "2010-02-04 00:00:00",
         "5716"
        ]
       ],
       "shape": {
        "columns": 2,
        "rows": 5
       }
      },
      "text/html": [
       "<div>\n",
       "<style scoped>\n",
       "    .dataframe tbody tr th:only-of-type {\n",
       "        vertical-align: middle;\n",
       "    }\n",
       "\n",
       "    .dataframe tbody tr th {\n",
       "        vertical-align: top;\n",
       "    }\n",
       "\n",
       "    .dataframe thead th {\n",
       "        text-align: right;\n",
       "    }\n",
       "</style>\n",
       "<table border=\"1\" class=\"dataframe\">\n",
       "  <thead>\n",
       "    <tr style=\"text-align: right;\">\n",
       "      <th></th>\n",
       "      <th>date</th>\n",
       "      <th>days_since_purchase</th>\n",
       "    </tr>\n",
       "  </thead>\n",
       "  <tbody>\n",
       "    <tr>\n",
       "      <th>0</th>\n",
       "      <td>2014-10-08</td>\n",
       "      <td>4009</td>\n",
       "    </tr>\n",
       "    <tr>\n",
       "      <th>1</th>\n",
       "      <td>2015-02-22</td>\n",
       "      <td>3872</td>\n",
       "    </tr>\n",
       "    <tr>\n",
       "      <th>2</th>\n",
       "      <td>2015-12-09</td>\n",
       "      <td>3582</td>\n",
       "    </tr>\n",
       "    <tr>\n",
       "      <th>3</th>\n",
       "      <td>2014-09-17</td>\n",
       "      <td>4030</td>\n",
       "    </tr>\n",
       "    <tr>\n",
       "      <th>4</th>\n",
       "      <td>2010-02-04</td>\n",
       "      <td>5716</td>\n",
       "    </tr>\n",
       "  </tbody>\n",
       "</table>\n",
       "</div>"
      ],
      "text/plain": [
       "        date  days_since_purchase\n",
       "0 2014-10-08                 4009\n",
       "1 2015-02-22                 3872\n",
       "2 2015-12-09                 3582\n",
       "3 2014-09-17                 4030\n",
       "4 2010-02-04                 5716"
      ]
     },
     "execution_count": 7,
     "metadata": {},
     "output_type": "execute_result"
    }
   ],
   "source": [
    "\n",
    "today = pd.Timestamp.today().normalize()\n",
    "clean_df[\"days_since_purchase\"] = (today - pd.to_datetime(clean_df[\"date\"])).dt.days\n",
    "clean_df[[\"date\",\"days_since_purchase\"]].head(5)\n"
   ]
  },
  {
   "cell_type": "markdown",
   "id": "3c3ac78b",
   "metadata": {},
   "source": [
    "## Step 10 : Mini‑Aggregation\n",
    "Revenue per `shipping_city` using a dictionary and a pandas check.\n"
   ]
  },
  {
   "cell_type": "code",
   "execution_count": 8,
   "id": "f7d85736",
   "metadata": {},
   "outputs": [
    {
     "data": {
      "text/plain": [
       "({'Azerbaijan': 1407375.662,\n",
       "  'Panama': 11205616.317,\n",
       "  'Sao Tome And Principe': 754545.1680000001,\n",
       "  'Belize': 14874286.709499998,\n",
       "  'Denmark': 3101908.7199999997,\n",
       "  'Berlin': 3526354.3499999996,\n",
       "  'Turkey': 5227259.8719999995,\n",
       "  'London': 5762163.961000001,\n",
       "  'Kazakhstan': 1927274.2339999997,\n",
       "  'Haiti': 398656.00999999995,\n",
       "  'Italy': 6185146.973999999,\n",
       "  'Malta': 4169008.175,\n",
       "  'Jordan': 6525311.34,\n",
       "  'Cambodia': 2808989.6580000003,\n",
       "  'Saint Kitts And Nevis ': 8134019.040000001,\n",
       "  'Cameroon': 1367529.5999999999,\n",
       "  'Bahrain': 363738.5,\n",
       "  'Solomon Islands': 174995.6,\n",
       "  'Monaco': 7264356.113,\n",
       "  'Comoros': 1111031.0840000003,\n",
       "  'Iceland': 1438373.484,\n",
       "  'Zambia': 1535358.96,\n",
       "  'Egypt': 5252491.301,\n",
       "  'Togo': 810617.184,\n",
       "  'Saudi Arabia': 7372561.662999999,\n",
       "  'Morocco': 1534792.902,\n",
       "  'Tunisia ': 7814874.592,\n",
       "  'Angola': 5258437.1245,\n",
       "  'Vietnam': 1827750.65,\n",
       "  'Belarus': 3654833.07,\n",
       "  'Myanmar': 1521298.8900000001,\n",
       "  'Lithuania': 892614.8335,\n",
       "  'Switzerland': 3590630.6180000002,\n",
       "  'Antigua And Barbuda ': 1183565.304,\n",
       "  'Mongolia': 3415414.527,\n",
       "  'Greenland': 409978.138,\n",
       "  'Eritrea': 1249180.124,\n",
       "  'Saint Vincent And The Grenadines': 831226.7920000001,\n",
       "  'Portugal': 1215269.6560000002,\n",
       "  'Somalia': 1927575.7425000002,\n",
       "  'Israel': 8771779.395,\n",
       "  'Dominica': 7392535.279999999,\n",
       "  'Luxembourg': 4067976.402,\n",
       "  'Singapore': 1500280.56,\n",
       "  'Cyprus': 2898567.626,\n",
       "  'Botswana': 1302969.872,\n",
       "  'Malawi': 3459633.582,\n",
       "  'Kyrgyzstan': 2020318.994,\n",
       "  'Macedonia': 2897049.3510000003,\n",
       "  'Rwanda': 1338591.813,\n",
       "  'Cape Verde': 384812.45,\n",
       "  'Pakistan': 2233104.193,\n",
       "  'Libya': 7011160.460999999,\n",
       "  'Bangladesh': 1040434.0040000001,\n",
       "  'Benin': 9771827.6435,\n",
       "  'Burundi': 10691893.572,\n",
       "  'Shanghai': 6604210.083500001,\n",
       "  'Albania': 2764784.2309999997,\n",
       "  'Bulgaria': 9123437.705,\n",
       "  'Central African Republic': 2461787.1149999998,\n",
       "  'Ukraine': 6167092.799999999,\n",
       "  'Uganda': 10142862.23,\n",
       "  'Ghana': 1092406.898,\n",
       "  'Namibia': 2795230.516,\n",
       "  'Republic Of The Congo': 6647839.587499999,\n",
       "  'Netherlands': 8761939.576,\n",
       "  'Australia': 5158608.836,\n",
       "  'Montenegro': 5262920.691,\n",
       "  'Iraq': 3658261.358,\n",
       "  \"Cote D'Ivoire\": 2623208.1580000003,\n",
       "  'Mexico City': 1611583.0230000003,\n",
       "  'Slovakia': 7962049.794,\n",
       "  'Afghanistan': 7574271.870000001,\n",
       "  'Indonesia': 3572787.009,\n",
       "  'Thailand': 7993875.983,\n",
       "  'Mali': 5719642.551000001,\n",
       "  'Lebanon': 6243325.2335,\n",
       "  'South Korea': 6595613.225,\n",
       "  'United Arab Emirates': 8352846.14,\n",
       "  'Georgia': 15495665.170000002,\n",
       "  'Guinea-Bissau': 4862575.433999999,\n",
       "  'Saint Lucia': 70413.51,\n",
       "  'Lesotho': 7256146.6965,\n",
       "  'Mauritius ': 9366915.385,\n",
       "  'Sudan': 2872004.856,\n",
       "  'Japan': 546786.0299999999,\n",
       "  'Estonia': 2157889.3445,\n",
       "  'Laos': 1449569.4900000002,\n",
       "  'Belgium': 1084997.923,\n",
       "  'Bhutan': 4629406.7700000005,\n",
       "  'New York': 3256907.476,\n",
       "  'Sweden': 2772833.4625,\n",
       "  'Nepal': 540836.208,\n",
       "  'Senegal': 1307522.9789999998,\n",
       "  'Dominican Republic': 4796096.589000001,\n",
       "  'Ethiopia': 734594.4090000001,\n",
       "  'Djibouti': 966464.46,\n",
       "  'The Bahamas': 9668468.075,\n",
       "  'Algeria': 49861.386,\n",
       "  'Costa Rica': 4739456.504,\n",
       "  'Maldives': 6256243.9,\n",
       "  'Mauritania': 2399638.4409999996,\n",
       "  'Liberia': 47450.0,\n",
       "  'East Timor': 2250361.26,\n",
       "  'Uzbekistan': 5641091.1899999995,\n",
       "  'South Africa': 2392115.301,\n",
       "  'Ireland': 1800589.6439999999,\n",
       "  'Mumbai': 2069256.8639999998,\n",
       "  'Swaziland': 1316163.51,\n",
       "  'Slovenia': 2982407.843,\n",
       "  'North Korea': 73164.69600000001,\n",
       "  'Tanzania': 4234493.025,\n",
       "  'Papua New Guinea': 6242174.922499999,\n",
       "  'Turkmenistan': 7023004.138,\n",
       "  'Grenada': 2732029.06,\n",
       "  'Greece': 3156382.9790000003,\n",
       "  'Kiribati': 1307000.28,\n",
       "  'Iran': 1680359.47,\n",
       "  'South Sudan': 5271052.761,\n",
       "  'Guinea': 6443894.755999999,\n",
       "  'Trinidad And Tobago': 83111.64,\n",
       "  'Vatican City': 2498193.741,\n",
       "  'Norway': 7175061.549,\n",
       "  'Kosovo': 13257339.389000002,\n",
       "  'Kuwait': 4561679.318,\n",
       "  'Tuvalu': 6101150.274,\n",
       "  'Nicaragua': 1562497.2,\n",
       "  'Croatia': 11226480.9355,\n",
       "  'Czech Republic': 6285173.210000001,\n",
       "  'Sierra Leone': 2825609.516,\n",
       "  'Andorra': 5621217.033,\n",
       "  'Tonga': 2824293.156,\n",
       "  'Finland': 4177708.464,\n",
       "  'Cuba': 1927615.41,\n",
       "  'Syria': 2159520.9899999998,\n",
       "  'El Salvador': 1354266.9,\n",
       "  'Moldova ': 2722546.536,\n",
       "  'Taiwan': 932376.9600000001,\n",
       "  'Mozambique': 10549897.838,\n",
       "  'Samoa ': 785375.85,\n",
       "  'Fiji': 48571.98,\n",
       "  'Democratic Republic Of The Congo': 675961.7299999999,\n",
       "  'Gabon': 2994439.614,\n",
       "  'Hungary': 190049.202,\n",
       "  'Kenya': 1102350.096,\n",
       "  'Paris': 7286696.364,\n",
       "  'Marshall Islands': 3077796.926,\n",
       "  'Bosnia And Herzegovina': 2292584.95,\n",
       "  'Russia': 4214681.1,\n",
       "  'Toronto': 2827749.89,\n",
       "  'Qatar': 86520.33000000002,\n",
       "  'Sri Lanka': 1132828.833,\n",
       "  'Spain': 3269028.6999999997,\n",
       "  'Latvia': 1492009.4880000001,\n",
       "  'Romania': 1673091.6,\n",
       "  'Federated States Of Micronesia': 47965.53,\n",
       "  'Barbados': 568971.5680000001,\n",
       "  'Burkina Faso': 4578735.776000001,\n",
       "  'Chad': 144607.65,\n",
       "  'The Gambia': 1038154.3200000001,\n",
       "  'Philippines': 1776992.634,\n",
       "  'Armenia': 171059.62699999998,\n",
       "  'Zimbabwe': 16980.6,\n",
       "  'Niger': 1397983.08,\n",
       "  'Madagascar': 920046.3200000001,\n",
       "  'Serbia': 79734.18000000001,\n",
       "  'Equatorial Guinea': 3231482.9839999997,\n",
       "  'San Marino': 713726.16,\n",
       "  'Tajikistan': 1412474.4900000002,\n",
       "  'Oman': 34996.83,\n",
       "  'Poland': 2029481.384,\n",
       "  'Nauru': 169254.15000000002,\n",
       "  'Palau': 2141091.75},\n",
       "     shipping_city       revenue\n",
       " 51        Georgia  1.549567e+07\n",
       " 14         Belize  1.487429e+07\n",
       " 72         Kosovo  1.325734e+07\n",
       " 31        Croatia  1.122648e+07\n",
       " 114        Panama  1.120562e+07)"
      ]
     },
     "execution_count": 8,
     "metadata": {},
     "output_type": "execute_result"
    }
   ],
   "source": [
    "\n",
    "# Dict accumulation\n",
    "city_rev: Dict[str, float] = {}\n",
    "for city, total in zip(clean_df[\"shipping_city\"], clean_df[\"net_total\"]):\n",
    "    city_rev[city] = city_rev.get(city, 0.0) + float(total)\n",
    "\n",
    "# Pandas check\n",
    "city_rev_df = clean_df.groupby(\"shipping_city\", as_index=False)[\"net_total\"].sum().rename(columns={\"net_total\":\"revenue\"})\n",
    "city_rev, city_rev_df.sort_values(\"revenue\", ascending=False).head(5)\n"
   ]
  },
  {
   "cell_type": "markdown",
   "id": "a2cb0333",
   "metadata": {},
   "source": [
    "## Step 11 : Serialization Checkpoint\n",
    "Save cleaned data to **JSON** (and CSV for convenience).\n"
   ]
  },
  {
   "cell_type": "code",
   "execution_count": 9,
   "id": "6665a9fc",
   "metadata": {},
   "outputs": [
    {
     "data": {
      "text/plain": [
       "('data\\\\cleaned_transactions_ol.json',\n",
       " 'data\\\\cleaned_transactions_ol.csv',\n",
       " 'data\\\\coupon_metadata_ol.csv',\n",
       " 'data\\\\country_city_metadata_ol.csv')"
      ]
     },
     "execution_count": 9,
     "metadata": {},
     "output_type": "execute_result"
    }
   ],
   "source": [
    "\n",
    "OUTPUT_DIR = \"data\"\n",
    "os.makedirs(OUTPUT_DIR, exist_ok=True)\n",
    "\n",
    "json_path = os.path.join(OUTPUT_DIR, \"cleaned_transactions_ol.json\")\n",
    "csv_path  = os.path.join(OUTPUT_DIR, \"cleaned_transactions_ol.csv\")\n",
    "meta_coupon_path = os.path.join(OUTPUT_DIR, \"coupon_metadata_ol.csv\")\n",
    "meta_city_path = os.path.join(OUTPUT_DIR, \"country_city_metadata_ol.csv\")\n",
    "\n",
    "# Persist primary outputs\n",
    "clean_df.to_json(json_path, orient=\"records\", lines=True)\n",
    "clean_df.to_csv(csv_path, index=False)\n",
    "\n",
    "# Persist secondary metadata used for the Data Dictionary merge\n",
    "COUPON_META.to_csv(meta_coupon_path, index=False)\n",
    "COUNTRY_CITY_META.to_csv(meta_city_path, index=False)\n",
    "\n",
    "json_path, csv_path, meta_coupon_path, meta_city_path\n"
   ]
  },
  {
   "cell_type": "markdown",
   "id": "0e08e7a7",
   "metadata": {},
   "source": [
    "## Step 12 : Soft Interview Reflection\n",
    "Functions (and small classes) clarify intent, make tests possible, and reduce duplication.  \n",
    "A dedicated `Cleaner` centralized parsing, validation, and standardization, which keeps downstream\n",
    "code focused on analysis rather than edge cases. Encapsulating the pricing logic in `.total()`\n",
    "made discount handling explicit and reusable across aggregations. As a result, the pipeline is\n",
    "easier to extend: for example, adding shipping fees or tax rules only requires a small change in\n",
    "one location. This modularity is what turns a quick prototype into a maintainable data workflow.\n"
   ]
  },
  {
   "cell_type": "markdown",
   "id": "9018c2df",
   "metadata": {},
   "source": [
    "## Data‑Dictionary (Merged Two‑Source)\n",
    "Below I merge field definitions from the primary CSV header and the secondary metadata sources\n",
    "(coupon catalog and country→city lookup). New engineered columns are documented with their provenance.\n"
   ]
  },
  {
   "cell_type": "code",
   "execution_count": 10,
   "id": "58a68181",
   "metadata": {},
   "outputs": [
    {
     "data": {
      "application/vnd.microsoft.datawrangler.viewer.v0+json": {
       "columns": [
        {
         "name": "index",
         "rawType": "int64",
         "type": "integer"
        },
        {
         "name": "Field",
         "rawType": "object",
         "type": "string"
        },
        {
         "name": "Type",
         "rawType": "object",
         "type": "string"
        },
        {
         "name": "Description",
         "rawType": "object",
         "type": "string"
        },
        {
         "name": "Source",
         "rawType": "object",
         "type": "string"
        }
       ],
       "ref": "a3cbec4b-fe38-41d0-b7d5-04d3454fc734",
       "rows": [
        [
         "0",
         "Order Date",
         "datetime64[ns]",
         "Original order date",
         "primary CSV"
        ],
        [
         "1",
         "Order ID",
         "string/int",
         "Unique order identifier",
         "primary CSV"
        ],
        [
         "2",
         "Item Type",
         "string",
         "Product category label",
         "primary CSV"
        ],
        [
         "3",
         "Units Sold",
         "int",
         "Units sold for the order line",
         "primary CSV"
        ],
        [
         "4",
         "Unit Price",
         "float",
         "Unit price for the item type",
         "primary CSV"
        ],
        [
         "5",
         "Country",
         "string",
         "Destination country",
         "primary CSV"
        ],
        [
         "6",
         "Order Priority",
         "string",
         "Internal priority flag (L/M/H/C)",
         "primary CSV"
        ],
        [
         "7",
         "date",
         "datetime64[ns]",
         "Alias of Order Date",
         "derived"
        ],
        [
         "8",
         "customer_id",
         "string",
         "Surrogate customer id (from Order ID)",
         "derived"
        ],
        [
         "9",
         "product",
         "string",
         "Alias of Item Type (title‑cased)",
         "derived"
        ],
        [
         "10",
         "price",
         "float",
         "Alias of Unit Price",
         "derived"
        ],
        [
         "11",
         "quantity",
         "int",
         "Alias of Units Sold",
         "derived"
        ],
        [
         "12",
         "coupon_code",
         "string",
         "Heuristic coupon assignment from priority/type",
         "derived + coupon metadata"
        ],
        [
         "13",
         "discount_pct",
         "float",
         "Percent discount from coupon metadata",
         "secondary: coupon catalog"
        ],
        [
         "14",
         "shipping_city",
         "string",
         "Representative city from country lookup",
         "secondary: country→city"
        ],
        [
         "15",
         "net_total",
         "float",
         "price*quantity*(1-discount)",
         "derived"
        ],
        [
         "16",
         "days_since_purchase",
         "int",
         "Days since `date`",
         "derived"
        ]
       ],
       "shape": {
        "columns": 4,
        "rows": 17
       }
      },
      "text/html": [
       "<div>\n",
       "<style scoped>\n",
       "    .dataframe tbody tr th:only-of-type {\n",
       "        vertical-align: middle;\n",
       "    }\n",
       "\n",
       "    .dataframe tbody tr th {\n",
       "        vertical-align: top;\n",
       "    }\n",
       "\n",
       "    .dataframe thead th {\n",
       "        text-align: right;\n",
       "    }\n",
       "</style>\n",
       "<table border=\"1\" class=\"dataframe\">\n",
       "  <thead>\n",
       "    <tr style=\"text-align: right;\">\n",
       "      <th></th>\n",
       "      <th>Field</th>\n",
       "      <th>Type</th>\n",
       "      <th>Description</th>\n",
       "      <th>Source</th>\n",
       "    </tr>\n",
       "  </thead>\n",
       "  <tbody>\n",
       "    <tr>\n",
       "      <th>0</th>\n",
       "      <td>Order Date</td>\n",
       "      <td>datetime64[ns]</td>\n",
       "      <td>Original order date</td>\n",
       "      <td>primary CSV</td>\n",
       "    </tr>\n",
       "    <tr>\n",
       "      <th>1</th>\n",
       "      <td>Order ID</td>\n",
       "      <td>string/int</td>\n",
       "      <td>Unique order identifier</td>\n",
       "      <td>primary CSV</td>\n",
       "    </tr>\n",
       "    <tr>\n",
       "      <th>2</th>\n",
       "      <td>Item Type</td>\n",
       "      <td>string</td>\n",
       "      <td>Product category label</td>\n",
       "      <td>primary CSV</td>\n",
       "    </tr>\n",
       "    <tr>\n",
       "      <th>3</th>\n",
       "      <td>Units Sold</td>\n",
       "      <td>int</td>\n",
       "      <td>Units sold for the order line</td>\n",
       "      <td>primary CSV</td>\n",
       "    </tr>\n",
       "    <tr>\n",
       "      <th>4</th>\n",
       "      <td>Unit Price</td>\n",
       "      <td>float</td>\n",
       "      <td>Unit price for the item type</td>\n",
       "      <td>primary CSV</td>\n",
       "    </tr>\n",
       "    <tr>\n",
       "      <th>5</th>\n",
       "      <td>Country</td>\n",
       "      <td>string</td>\n",
       "      <td>Destination country</td>\n",
       "      <td>primary CSV</td>\n",
       "    </tr>\n",
       "    <tr>\n",
       "      <th>6</th>\n",
       "      <td>Order Priority</td>\n",
       "      <td>string</td>\n",
       "      <td>Internal priority flag (L/M/H/C)</td>\n",
       "      <td>primary CSV</td>\n",
       "    </tr>\n",
       "    <tr>\n",
       "      <th>7</th>\n",
       "      <td>date</td>\n",
       "      <td>datetime64[ns]</td>\n",
       "      <td>Alias of Order Date</td>\n",
       "      <td>derived</td>\n",
       "    </tr>\n",
       "    <tr>\n",
       "      <th>8</th>\n",
       "      <td>customer_id</td>\n",
       "      <td>string</td>\n",
       "      <td>Surrogate customer id (from Order ID)</td>\n",
       "      <td>derived</td>\n",
       "    </tr>\n",
       "    <tr>\n",
       "      <th>9</th>\n",
       "      <td>product</td>\n",
       "      <td>string</td>\n",
       "      <td>Alias of Item Type (title‑cased)</td>\n",
       "      <td>derived</td>\n",
       "    </tr>\n",
       "    <tr>\n",
       "      <th>10</th>\n",
       "      <td>price</td>\n",
       "      <td>float</td>\n",
       "      <td>Alias of Unit Price</td>\n",
       "      <td>derived</td>\n",
       "    </tr>\n",
       "    <tr>\n",
       "      <th>11</th>\n",
       "      <td>quantity</td>\n",
       "      <td>int</td>\n",
       "      <td>Alias of Units Sold</td>\n",
       "      <td>derived</td>\n",
       "    </tr>\n",
       "    <tr>\n",
       "      <th>12</th>\n",
       "      <td>coupon_code</td>\n",
       "      <td>string</td>\n",
       "      <td>Heuristic coupon assignment from priority/type</td>\n",
       "      <td>derived + coupon metadata</td>\n",
       "    </tr>\n",
       "    <tr>\n",
       "      <th>13</th>\n",
       "      <td>discount_pct</td>\n",
       "      <td>float</td>\n",
       "      <td>Percent discount from coupon metadata</td>\n",
       "      <td>secondary: coupon catalog</td>\n",
       "    </tr>\n",
       "    <tr>\n",
       "      <th>14</th>\n",
       "      <td>shipping_city</td>\n",
       "      <td>string</td>\n",
       "      <td>Representative city from country lookup</td>\n",
       "      <td>secondary: country→city</td>\n",
       "    </tr>\n",
       "    <tr>\n",
       "      <th>15</th>\n",
       "      <td>net_total</td>\n",
       "      <td>float</td>\n",
       "      <td>price*quantity*(1-discount)</td>\n",
       "      <td>derived</td>\n",
       "    </tr>\n",
       "    <tr>\n",
       "      <th>16</th>\n",
       "      <td>days_since_purchase</td>\n",
       "      <td>int</td>\n",
       "      <td>Days since `date`</td>\n",
       "      <td>derived</td>\n",
       "    </tr>\n",
       "  </tbody>\n",
       "</table>\n",
       "</div>"
      ],
      "text/plain": [
       "                  Field            Type                                     Description                     Source\n",
       "0            Order Date  datetime64[ns]                             Original order date                primary CSV\n",
       "1              Order ID      string/int                         Unique order identifier                primary CSV\n",
       "2             Item Type          string                          Product category label                primary CSV\n",
       "3            Units Sold             int                   Units sold for the order line                primary CSV\n",
       "4            Unit Price           float                    Unit price for the item type                primary CSV\n",
       "5               Country          string                             Destination country                primary CSV\n",
       "6        Order Priority          string                Internal priority flag (L/M/H/C)                primary CSV\n",
       "7                  date  datetime64[ns]                             Alias of Order Date                    derived\n",
       "8           customer_id          string           Surrogate customer id (from Order ID)                    derived\n",
       "9               product          string                Alias of Item Type (title‑cased)                    derived\n",
       "10                price           float                             Alias of Unit Price                    derived\n",
       "11             quantity             int                             Alias of Units Sold                    derived\n",
       "12          coupon_code          string  Heuristic coupon assignment from priority/type  derived + coupon metadata\n",
       "13         discount_pct           float           Percent discount from coupon metadata  secondary: coupon catalog\n",
       "14        shipping_city          string         Representative city from country lookup    secondary: country→city\n",
       "15            net_total           float                     price*quantity*(1-discount)                    derived\n",
       "16  days_since_purchase             int                               Days since `date`                    derived"
      ]
     },
     "execution_count": 10,
     "metadata": {},
     "output_type": "execute_result"
    }
   ],
   "source": [
    "\n",
    "# Build a tidy Data Dictionary\n",
    "primary_fields = [\n",
    "    (\"Order Date\",\"datetime64[ns]\",\"Original order date\",\"primary CSV\"),\n",
    "    (\"Order ID\",\"string/int\",\"Unique order identifier\",\"primary CSV\"),\n",
    "    (\"Item Type\",\"string\",\"Product category label\",\"primary CSV\"),\n",
    "    (\"Units Sold\",\"int\",\"Units sold for the order line\",\"primary CSV\"),\n",
    "    (\"Unit Price\",\"float\",\"Unit price for the item type\",\"primary CSV\"),\n",
    "    (\"Country\",\"string\",\"Destination country\",\"primary CSV\"),\n",
    "    (\"Order Priority\",\"string\",\"Internal priority flag (L/M/H/C)\",\"primary CSV\"),\n",
    "]\n",
    "\n",
    "engineered_fields = [\n",
    "    (\"date\",\"datetime64[ns]\",\"Alias of Order Date\",\"derived\"),\n",
    "    (\"customer_id\",\"string\",\"Surrogate customer id (from Order ID)\",\"derived\"),\n",
    "    (\"product\",\"string\",\"Alias of Item Type (title‑cased)\",\"derived\"),\n",
    "    (\"price\",\"float\",\"Alias of Unit Price\",\"derived\"),\n",
    "    (\"quantity\",\"int\",\"Alias of Units Sold\",\"derived\"),\n",
    "    (\"coupon_code\",\"string\",\"Heuristic coupon assignment from priority/type\",\"derived + coupon metadata\"),\n",
    "    (\"discount_pct\",\"float\",\"Percent discount from coupon metadata\",\"secondary: coupon catalog\"),\n",
    "    (\"shipping_city\",\"string\",\"Representative city from country lookup\",\"secondary: country→city\"),\n",
    "    (\"net_total\",\"float\",\"price*quantity*(1-discount)\",\"derived\"),\n",
    "    (\"days_since_purchase\",\"int\",\"Days since `date`\",\"derived\"),\n",
    "]\n",
    "\n",
    "dd_df = pd.DataFrame(primary_fields + engineered_fields, columns=[\"Field\",\"Type\",\"Description\",\"Source\"])\n",
    "dd_df\n"
   ]
  },
  {
   "cell_type": "markdown",
   "id": "0821a879",
   "metadata": {},
   "source": [
    "## Mini Insight (One‑liner)\n",
    "Top cities by net revenue suggest where logistics performance matters most; targeted promotions\n",
    "in those regions could yield measurable gains.\n"
   ]
  },
  {
   "cell_type": "code",
   "execution_count": 11,
   "id": "56ad3742",
   "metadata": {},
   "outputs": [
    {
     "data": {
      "application/vnd.microsoft.datawrangler.viewer.v0+json": {
       "columns": [
        {
         "name": "index",
         "rawType": "int64",
         "type": "integer"
        },
        {
         "name": "shipping_city",
         "rawType": "object",
         "type": "string"
        },
        {
         "name": "revenue",
         "rawType": "float64",
         "type": "float"
        }
       ],
       "ref": "eaa2e9bb-d40c-49db-8f40-5ec0211b1f9e",
       "rows": [
        [
         "51",
         "Georgia",
         "15495665.170000002"
        ],
        [
         "14",
         "Belize",
         "14874286.7095"
        ],
        [
         "72",
         "Kosovo",
         "13257339.389"
        ],
        [
         "31",
         "Croatia",
         "11226480.9355"
        ],
        [
         "114",
         "Panama",
         "11205616.317"
        ],
        [
         "22",
         "Burundi",
         "10691893.572"
        ],
        [
         "99",
         "Mozambique",
         "10549897.838"
        ],
        [
         "165",
         "Uganda",
         "10142862.23"
        ],
        [
         "15",
         "Benin",
         "9771827.643499998"
        ],
        [
         "155",
         "The Bahamas",
         "9668468.075000001"
        ]
       ],
       "shape": {
        "columns": 2,
        "rows": 10
       }
      },
      "text/html": [
       "<div>\n",
       "<style scoped>\n",
       "    .dataframe tbody tr th:only-of-type {\n",
       "        vertical-align: middle;\n",
       "    }\n",
       "\n",
       "    .dataframe tbody tr th {\n",
       "        vertical-align: top;\n",
       "    }\n",
       "\n",
       "    .dataframe thead th {\n",
       "        text-align: right;\n",
       "    }\n",
       "</style>\n",
       "<table border=\"1\" class=\"dataframe\">\n",
       "  <thead>\n",
       "    <tr style=\"text-align: right;\">\n",
       "      <th></th>\n",
       "      <th>shipping_city</th>\n",
       "      <th>revenue</th>\n",
       "    </tr>\n",
       "  </thead>\n",
       "  <tbody>\n",
       "    <tr>\n",
       "      <th>51</th>\n",
       "      <td>Georgia</td>\n",
       "      <td>1.549567e+07</td>\n",
       "    </tr>\n",
       "    <tr>\n",
       "      <th>14</th>\n",
       "      <td>Belize</td>\n",
       "      <td>1.487429e+07</td>\n",
       "    </tr>\n",
       "    <tr>\n",
       "      <th>72</th>\n",
       "      <td>Kosovo</td>\n",
       "      <td>1.325734e+07</td>\n",
       "    </tr>\n",
       "    <tr>\n",
       "      <th>31</th>\n",
       "      <td>Croatia</td>\n",
       "      <td>1.122648e+07</td>\n",
       "    </tr>\n",
       "    <tr>\n",
       "      <th>114</th>\n",
       "      <td>Panama</td>\n",
       "      <td>1.120562e+07</td>\n",
       "    </tr>\n",
       "    <tr>\n",
       "      <th>22</th>\n",
       "      <td>Burundi</td>\n",
       "      <td>1.069189e+07</td>\n",
       "    </tr>\n",
       "    <tr>\n",
       "      <th>99</th>\n",
       "      <td>Mozambique</td>\n",
       "      <td>1.054990e+07</td>\n",
       "    </tr>\n",
       "    <tr>\n",
       "      <th>165</th>\n",
       "      <td>Uganda</td>\n",
       "      <td>1.014286e+07</td>\n",
       "    </tr>\n",
       "    <tr>\n",
       "      <th>15</th>\n",
       "      <td>Benin</td>\n",
       "      <td>9.771828e+06</td>\n",
       "    </tr>\n",
       "    <tr>\n",
       "      <th>155</th>\n",
       "      <td>The Bahamas</td>\n",
       "      <td>9.668468e+06</td>\n",
       "    </tr>\n",
       "  </tbody>\n",
       "</table>\n",
       "</div>"
      ],
      "text/plain": [
       "    shipping_city       revenue\n",
       "51        Georgia  1.549567e+07\n",
       "14         Belize  1.487429e+07\n",
       "72         Kosovo  1.325734e+07\n",
       "31        Croatia  1.122648e+07\n",
       "114        Panama  1.120562e+07\n",
       "22        Burundi  1.069189e+07\n",
       "99     Mozambique  1.054990e+07\n",
       "165        Uganda  1.014286e+07\n",
       "15          Benin  9.771828e+06\n",
       "155   The Bahamas  9.668468e+06"
      ]
     },
     "execution_count": 11,
     "metadata": {},
     "output_type": "execute_result"
    }
   ],
   "source": [
    "\n",
    "city_rev_df.sort_values(\"revenue\", ascending=False).head(10)\n"
   ]
  }
 ],
 "metadata": {
  "kernelspec": {
   "display_name": ".venv",
   "language": "python",
   "name": "python3"
  },
  "language_info": {
   "codemirror_mode": {
    "name": "ipython",
    "version": 3
   },
   "file_extension": ".py",
   "mimetype": "text/x-python",
   "name": "python",
   "nbconvert_exporter": "python",
   "pygments_lexer": "ipython3",
   "version": "3.13.7"
  }
 },
 "nbformat": 4,
 "nbformat_minor": 5
}
